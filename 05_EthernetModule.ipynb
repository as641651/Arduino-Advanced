{
 "cells": [
  {
   "cell_type": "markdown",
   "metadata": {},
   "source": [
    "## Ethernet module"
   ]
  },
  {
   "cell_type": "markdown",
   "metadata": {},
   "source": [
    "### ENC28J60"
   ]
  },
  {
   "cell_type": "markdown",
   "metadata": {},
   "source": [
    "> The most common ethernet module for all varieties of **arduino and raspberry pi**\n",
    "\n",
    "> [Product page](https://www.microchip.com/wwwproducts/en/en022889)"
   ]
  },
  {
   "cell_type": "markdown",
   "metadata": {},
   "source": [
    "<img src=\"files/enc28j60.png\" width-500px />"
   ]
  },
  {
   "cell_type": "markdown",
   "metadata": {},
   "source": [
    "### Connections\n",
    "\n",
    "> 1) **SPI interfece**.\n",
    "\n",
    "> 2) SPI pins **MOSI, MISO, SCK cannot  be changed**. They are hardware configured in arduino. For details about SPI configuration for different boards, check [here](https://www.arduino.cc/en/Reference/SPI)\n",
    "\n",
    "> 3) To find the **Slave Select (SS) pin**, check the library. There are two libraries implemented for this module\n",
    "\n",
    ">> **a) [EtherCard](https://github.com/njh/EtherCard), SS PIN : 8**\n",
    "\n",
    ">> **b) [UIPEthernet](https://github.com/ntruchsess/arduino_uip), SS PIN 10**. This library uses an API which is compatable with the [official arduino Ethernet library](https://www.arduino.cc/en/reference/ethernet) for ethernet shields. You can use the examples of the official library just by changing the header file from **Ethernet** to **UIPEthernet**\n",
    "\n",
    ">>> The pin configurations for UPIEthernet are defined in the file **[utility/Enc28J60Network.h](https://github.com/UIPEthernet/UIPEthernet/blob/master/utility/Enc28J60Network.h)**\n",
    "\n",
    ">>> But this library uses almost **15% more flash memory**( out of 32K) and almost **50% more SRAM memory** (out of 2K). Hence its better to use this module with **arduino mega**"
   ]
  },
  {
   "cell_type": "markdown",
   "metadata": {},
   "source": [
    "<img src=\"files/enc_pin.png\" width=500px/>"
   ]
  },
  {
   "cell_type": "code",
   "execution_count": null,
   "metadata": {},
   "outputs": [],
   "source": []
  }
 ],
 "metadata": {
  "kernelspec": {
   "display_name": "Python 3",
   "language": "python",
   "name": "python3"
  },
  "language_info": {
   "codemirror_mode": {
    "name": "ipython",
    "version": 3
   },
   "file_extension": ".py",
   "mimetype": "text/x-python",
   "name": "python",
   "nbconvert_exporter": "python",
   "pygments_lexer": "ipython3",
   "version": "3.4.3"
  }
 },
 "nbformat": 4,
 "nbformat_minor": 2
}
