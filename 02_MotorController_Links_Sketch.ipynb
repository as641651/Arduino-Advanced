{
 "cells": [
  {
   "cell_type": "markdown",
   "metadata": {},
   "source": [
    "## Motor controllers\n",
    "\n",
    "### Products\n",
    "\n",
    "> 1) **L298N**\n",
    "\n",
    ">> Sample sketch discussed below\n",
    "\n",
    "> 2) **[Adafruit DRV8871](https://www.adafruit.com/product/3190)**\n",
    "\n",
    ">> [Sample sketch](https://github.com/futureshocked/TE-Arduino-SbS-Getting-Serious/blob/master/_0903_-_DC_motor_with_DRV8871/_0903_-_DC_motor_with_DRV8871.ino)\n",
    "\n",
    "> 3) **[Adafruit motor shield](https://www.adafruit.com/product/1438)**\n",
    "\n",
    ">> [Sample sketch](https://github.com/futureshocked/TE-Arduino-SbS-Getting-Serious/blob/master/_0910_-_DC_motor_with_Adafruit_Motor_Shield_v2/_0910_-_DC_motor_with_Adafruit_Motor_Shield_v2.ino)"
   ]
  },
  {
   "cell_type": "markdown",
   "metadata": {},
   "source": [
    "## L298N Motor controller Sketch"
   ]
  },
  {
   "cell_type": "markdown",
   "metadata": {},
   "source": [
    "<div style=\"border:2px solid;margin:0 20px 0 20px\" ></div> \n",
    "\n",
    "```c++\n",
    " /* Arduino   |   L298N \n",
    " * ---------------------\n",
    " *   GND     |   GND\n",
    " *   2       |   DIRECTION2\n",
    " *   3       |   PWM2\n",
    " *   4       |   DIRECTION1\n",
    " *   5       |   PWM1\n",
    " *           |   OUT1  --> Motor 1 wire 1\n",
    " *           |   OUT2  --> Motor 1 wire 2\n",
    " *           |   OUT3  --> Motor 2 wire 1\n",
    " *           |   OUT4  --> Motor 2 wire 2\n",
    " *           |   +12V  --> 5V power supply \n",
    " *           |   GND   --> GND power supply\n",
    " *     \n",
    " * More information\n",
    " * ----------------\n",
    " * L298N datasheet: http://www.ti.com/lit/ds/symlink/l293.pdf\n",
    " *  \n",
    " *  Created on May 28 2017 by Peter Dalmaris\n",
    " * \n",
    " */\n",
    "\n",
    "int speed1     = 5; //Controls speed (PWM) for motor 1\n",
    "int direction1 = 4; //Controls direction for motor 1\n",
    "int speed2     = 3; //Controls speed (PWM) for motor 2\n",
    "int direction2 = 2; //Controls direction for motor 2\n",
    "   \n",
    "bool direction = HIGH;  // Start the motor by moving it towards one direction. Whether it is\n",
    "                        // clockwise or anticlockwise depends on how you have connected the \n",
    "                        // motor's coil.\n",
    " \n",
    "void setup() \n",
    "{ \n",
    "    pinMode(direction1, OUTPUT);  \n",
    "    pinMode(speed1, OUTPUT);  \n",
    "    pinMode(direction2, OUTPUT);  \n",
    "    pinMode(speed2, OUTPUT);  \n",
    "} \n",
    " \n",
    "void loop() \n",
    "{ \n",
    "    digitalWrite(direction1,direction);   // Direction control motor 1\n",
    "    digitalWrite(direction2,direction);   // Direction control motor 2\n",
    "    analogWrite(speed1, 205);              // PWM Speed Control motor 1\n",
    "    analogWrite(speed2, 150);             // PWM Speed Control motor 2\n",
    "    delay(1000); \n",
    "    analogWrite(speed1, 100);             // PWM Speed Control motor 1\n",
    "    analogWrite(speed2, 200);             // PWM Speed Control motor 2\n",
    "    delay(1000); \n",
    "    analogWrite(speed1, 150);             // PWM Speed Control motor 1\n",
    "    analogWrite(speed2, 255);             // PWM Speed Control motor 2\n",
    "    delay(1000); \n",
    "    \n",
    "    direction = !direction;               // Switch direction\n",
    "    analogWrite(speed1, 0);               // Stop motor 1 before starting again in the opposite direction\n",
    "    analogWrite(speed2, 0);               // Stop motor 2 before starting again in the opposite direction\n",
    "}\n",
    "```\n",
    "<div style=\"border:2px solid;margin:0 20px 0 20px\" ></div> \n"
   ]
  },
  {
   "cell_type": "code",
   "execution_count": null,
   "metadata": {},
   "outputs": [],
   "source": []
  }
 ],
 "metadata": {
  "kernelspec": {
   "display_name": "Python 3",
   "language": "python",
   "name": "python3"
  },
  "language_info": {
   "codemirror_mode": {
    "name": "ipython",
    "version": 3
   },
   "file_extension": ".py",
   "mimetype": "text/x-python",
   "name": "python",
   "nbconvert_exporter": "python",
   "pygments_lexer": "ipython3",
   "version": "3.4.3"
  }
 },
 "nbformat": 4,
 "nbformat_minor": 2
}
