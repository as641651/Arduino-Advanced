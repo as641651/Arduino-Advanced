{
 "cells": [
  {
   "cell_type": "markdown",
   "metadata": {},
   "source": [
    "## Ethernet server\n",
    "\n",
    "For ENC28j60, use **UPIEthernet** library"
   ]
  },
  {
   "cell_type": "markdown",
   "metadata": {},
   "source": [
    "**Setting up server**"
   ]
  },
  {
   "cell_type": "markdown",
   "metadata": {},
   "source": [
    "```c++\n",
    "// can be any mac address, but should be unique from the device connected to your network\n",
    "byte mac[] = {0x74,0x69,0x69,0x2D,0x30,0x31};\n",
    "IPAddress ip(192,168,1, 123);\n",
    "IPAddress gateway(192,168,1, 1);\n",
    "IPAddress subnet(255, 255,255, 0);\n",
    "\n",
    "// open server on port 23\n",
    "EthernetServer server(23);\n",
    "\n",
    "void setup() {\n",
    "  // Open serial communications and wait for port to open:\n",
    "  Serial.begin(9600);\n",
    "  Ethernet.begin(mac,ip);\n",
    "  server.begin();\n",
    "  \n",
    "  ...\n",
    "}\n",
    "```"
   ]
  },
  {
   "cell_type": "markdown",
   "metadata": {},
   "source": [
    "**Communicating with client**"
   ]
  },
  {
   "cell_type": "markdown",
   "metadata": {},
   "source": [
    "```c++\n",
    "void loop() {\n",
    "    \n",
    "    EthernetClient client = server.available();\n",
    "    if (client) {\n",
    "        char thisChar = client.read();\n",
    "        // do something\n",
    "                 \n",
    "        // sends response to all clients\n",
    "        server.write(response);\n",
    "                 \n",
    "        // send response to the calling client\n",
    "        client.print(response);\n",
    "    }\n",
    "}\n",
    "```\n"
   ]
  },
  {
   "cell_type": "markdown",
   "metadata": {},
   "source": [
    "**Testing communication**\n",
    "\n",
    "> Use **telnet** (calls port 23 by default)\n",
    "```bash\n",
    "telnet 192.168.1.123\n",
    "```"
   ]
  },
  {
   "cell_type": "markdown",
   "metadata": {},
   "source": [
    "### Example:\n",
    "\n",
    "> **EchoServer** sketch"
   ]
  },
  {
   "cell_type": "code",
   "execution_count": null,
   "metadata": {},
   "outputs": [],
   "source": []
  }
 ],
 "metadata": {
  "kernelspec": {
   "display_name": "Python 3",
   "language": "python",
   "name": "python3"
  },
  "language_info": {
   "codemirror_mode": {
    "name": "ipython",
    "version": 3
   },
   "file_extension": ".py",
   "mimetype": "text/x-python",
   "name": "python",
   "nbconvert_exporter": "python",
   "pygments_lexer": "ipython3",
   "version": "3.4.3"
  }
 },
 "nbformat": 4,
 "nbformat_minor": 2
}
