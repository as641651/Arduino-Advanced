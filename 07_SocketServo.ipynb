{
 "cells": [
  {
   "cell_type": "markdown",
   "metadata": {},
   "source": [
    "## Socket Servo"
   ]
  },
  {
   "cell_type": "markdown",
   "metadata": {},
   "source": [
    "An illustration to control a servo motor with data received through ethernet\n",
    "\n",
    "> Set up **Ethernet server** on **arduino**, that will listen for values from **motion sensor of an android phone**\n",
    "\n",
    "**NOTE**:\n",
    "\n",
    "> 1) **Arduino uno** does not have enough memory to handle **websockets**. Therefore, the client should communicate through normal TCP socket without any additional protocols\n",
    "\n",
    "> 2) **Websocket and MQTT** libraries are more suited for **NodeMCU**. Nowdays, using NodeMCU to connect arduino to internet has become the standard.   "
   ]
  },
  {
   "cell_type": "markdown",
   "metadata": {},
   "source": [
    "### Callibrations\n",
    "\n",
    "> 1) Make a note of motion sensor values for tilts in the android phone. For my case, I made arduino responsive for tilt values between **-3 and +3**\n",
    "\n",
    "> 2) Determine the range of values to which the servo motor is responsive. My **SG90** was responsive between **21 - 180**\n",
    "\n",
    "> 3) **Synchronize** the **posting of data from android to processing of data in arduino**."
   ]
  },
  {
   "cell_type": "markdown",
   "metadata": {},
   "source": [
    "### Arduino Sketch\n"
   ]
  },
  {
   "cell_type": "markdown",
   "metadata": {},
   "source": [
    "<div style=\"border:2px solid;margin:0 20px 0 20px\" ></div> \n",
    "\n",
    "```c++\n",
    "\n",
    "#include <UIPEthernet.h>\n",
    "// The connection_data struct needs to be defined in an external file.\n",
    "#include <UIPServer.h>\n",
    "#include <UIPClient.h>\n",
    "#include <Servo.h>\n",
    "\n",
    "Servo myservo;\n",
    "// servo position is calibrated between 21-180 for my servo\n",
    "int pos = 21;\n",
    "float t_speed = 5; \n",
    "\n",
    "byte mac[] = {0x74,0x69,0x69,0x2D,0x30,0x31};\n",
    "IPAddress ip(192,168,1, 123);\n",
    "IPAddress gateway(192,168,1, 1);\n",
    "IPAddress subnet(255, 255,255, 0);\n",
    "\n",
    "// telnet defaults to port 23\n",
    "EthernetServer server(23);\n",
    "//EthernetClient ethClient;\n",
    "boolean gotAMessage = false; // whether or not you got a message from the client yet\n",
    "\n",
    "void setup() {\n",
    "  // Open serial communications and wait for port to open:\n",
    "  Serial.begin(9600);\n",
    "\n",
    "  // start the Ethernet connection:\n",
    "  Serial.println(\"Trying to get an IP address using DHCP\");\n",
    "  Ethernet.begin(mac, ip);    \n",
    "  \n",
    "  // print your local IP address:\n",
    "  Serial.print(\"My IP address: \");\n",
    "  ip = Ethernet.localIP();\n",
    "  for (byte thisByte = 0; thisByte < 4; thisByte++) {\n",
    "    // print the value of each byte of the IP address:\n",
    "    Serial.print(ip[thisByte], DEC);\n",
    "    Serial.print(\".\"); \n",
    "  }\n",
    "  Serial.println();\n",
    "  // start listening for clients\n",
    "  server.begin();\n",
    "\n",
    "  // attach servo\n",
    "  myservo.attach(3);\n",
    "  delay(100);\n",
    "  myservo.write(pos);\n",
    "  \n",
    "}\n",
    "\n",
    "String currentVal = \"\";\n",
    "\n",
    "void loop() {\n",
    "  // wait for a new client:\n",
    "  EthernetClient client = server.available();\n",
    "\n",
    "  // when the client sends the first byte, say hello:\n",
    "  float tilt;\n",
    "  if (client) {\n",
    "    if (!gotAMessage) {\n",
    "      Serial.println(\"We have a new client\");\n",
    "      //client.println(\"Hello, client!\"); \n",
    "      gotAMessage = true;\n",
    "    }\n",
    "\n",
    "    // read the bytes incoming from the client:\n",
    "    char thisChar = client.read();\n",
    "    //Serial.print(thisChar);\n",
    "    if(thisChar == 'P' || thisChar == 'E'){\n",
    "      // check if end of value is reached\n",
    "      Serial.println();\n",
    "      if(currentVal[0] == '-'){ \n",
    "        if(currentVal[1]>='3'){\n",
    "          // update position if sensor value is greater than a threshold\n",
    "          pos+=1*t_speed;\n",
    "          // position is calibrated between 21-180 for my servo\n",
    "          if(pos>180)\n",
    "            pos=180;\n",
    "          if(pos <21)\n",
    "            pos=21;\n",
    "          myservo.write(pos);\n",
    "          Serial.println(\"Left\");\n",
    "        }\n",
    "      }else{\n",
    "        if(currentVal[0]>='3'){\n",
    "          // update position if sensor value is greater than a threshold\n",
    "          pos-=1*t_speed;\n",
    "          // position is calibrated between 21-180 for my servo\n",
    "          if(pos>180)\n",
    "            pos=180;\n",
    "          if(pos<21)\n",
    "            pos = 21;\n",
    "          myservo.write(pos);\n",
    "          Serial.println(\"Right\");\n",
    "        }\n",
    "      }\n",
    "      Serial.println(pos);\n",
    "      Serial.println(currentVal);\n",
    "      //reset current value\n",
    "      currentVal = \"\";\n",
    "    }else{\n",
    "      // if end of value is not rached, keep reading\n",
    "      currentVal+=thisChar;\n",
    "    }\n",
    "  } \n",
    "}\n",
    "```\n",
    "<div style=\"border:2px solid;margin:0 20px 0 20px\" ></div> \n"
   ]
  },
  {
   "cell_type": "markdown",
   "metadata": {},
   "source": [
    "### Android client \n",
    "\n",
    "> Refer **31_Sockets** section in **AndroidTutorial**"
   ]
  },
  {
   "cell_type": "code",
   "execution_count": null,
   "metadata": {},
   "outputs": [],
   "source": []
  }
 ],
 "metadata": {
  "kernelspec": {
   "display_name": "Python 3",
   "language": "python",
   "name": "python3"
  },
  "language_info": {
   "codemirror_mode": {
    "name": "ipython",
    "version": 3
   },
   "file_extension": ".py",
   "mimetype": "text/x-python",
   "name": "python",
   "nbconvert_exporter": "python",
   "pygments_lexer": "ipython3",
   "version": "3.4.3"
  }
 },
 "nbformat": 4,
 "nbformat_minor": 2
}
