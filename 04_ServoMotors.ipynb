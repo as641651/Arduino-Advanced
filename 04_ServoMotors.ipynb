{
 "cells": [
  {
   "cell_type": "markdown",
   "metadata": {},
   "source": [
    "## Servo Motor"
   ]
  },
  {
   "cell_type": "markdown",
   "metadata": {},
   "source": [
    "### Servo motors with 180 degree range\n",
    "\n",
    "> They are used for turning and positioning applications. \n",
    "\n",
    "> **Servo.h** library is used to override PWM signals with **absolute angle**\n",
    "\n",
    ">> **Value** : 0-180, specifies the absolute position\n",
    "\n",
    "> **Controlling speed**:\n",
    "\n",
    ">> By introducing **delay**"
   ]
  },
  {
   "cell_type": "markdown",
   "metadata": {},
   "source": [
    "### Sketch"
   ]
  },
  {
   "cell_type": "markdown",
   "metadata": {},
   "source": [
    "<div style=\"border:2px solid;margin:0 20px 0 20px\" ></div> \n",
    "\n",
    "```c++\n",
    "#include <Servo.h> \n",
    " \n",
    "Servo myservo1, myservo2;  // create servo object to control a servo \n",
    "                           // a maximum of eight servo objects can be created \n",
    " \n",
    "int pos = 0;    // variable to store the servo position \n",
    " \n",
    "void setup() \n",
    "{ \n",
    "  myservo1.attach(9);  // attaches the servo on pin 9 to the servo object \n",
    "  myservo2.attach(10);\n",
    "} \n",
    " \n",
    " \n",
    "void loop() \n",
    "{ \n",
    "// If you are using a normal 180-degree servo, try the following. \n",
    "// The code below sweeps the servo from 0 degrees to 180 degrees\n",
    "// If you notice that your servo is \"trashing\" when it reaches the ends of its travel\n",
    "// path, increase the low end by a little (say, make it 10 degrees) and decrease the \n",
    "// top end by a little (say, make it 170 degrees).\n",
    "for (pos = 0; pos <= 180; pos += 1) { // goes from 0 degrees to 180 degrees\n",
    "    // in steps of 1 degree\n",
    "    myservo1.write(pos);              // tell servo 1 to go to position in variable 'pos'\n",
    "//    myservo2.write(pos);              // tell servo 2 to go to position in variable 'pos'\n",
    "    delay(5);                       // waits 5ms for the servo to reach the position\n",
    "  }\n",
    "for (pos = 180; pos >= 0; pos -= 1) { // goes from 180 degrees to 0 degrees\n",
    "    myservo1.write(pos);              // tell servo 1 to go to position in variable 'pos'\n",
    "//    myservo2.write(pos);              // tell servo 2 to go to position in variable 'pos'\n",
    "    delay(5);                       // waits 5ms for the servo to reach the position\n",
    "  }\n",
    "\n",
    "} \n",
    "```\n",
    "<div style=\"border:2px solid;margin:0 20px 0 20px\" ></div> \n"
   ]
  },
  {
   "cell_type": "markdown",
   "metadata": {},
   "source": [
    "### Continous servo motor\n",
    "\n",
    "> It has full range and can keep rotating\n",
    "\n",
    "> **Value** passed to **Servo** object determines the **speed and direction** of rotation \n",
    "\n",
    ">> **Value = 90** (REST). Motor have to be calibrated for this resting position by adjusting the potentiometer in the motor\n",
    "\n",
    ">> **Value 90 - 180** : Speed of clockwise rotation\n",
    "\n",
    ">> **Value 0 - 90** : Speed of anti clockwise rotation"
   ]
  },
  {
   "cell_type": "markdown",
   "metadata": {},
   "source": [
    "<div style=\"border:2px solid;margin:0 20px 0 20px\" ></div> \n",
    "\n",
    "```c++\n",
    "#include <Servo.h> \n",
    " \n",
    "Servo myservo;             // create servo object to control a servo \n",
    "                           // a maximum of eight servo objects can be created \n",
    " \n",
    "void setup() \n",
    "{ \n",
    "  myservo.attach(9);  // attaches the servo on pin 9 to the servo object \n",
    "} \n",
    " \n",
    "void loop() \n",
    "{ \n",
    "// Uncomment the following lines, one at a time, to see the effect that each one\n",
    "// has on the speed and direction of a continuous rotation servo.\n",
    "\n",
    "//  myservo.write(90);    // At this position, the servo does not move. 90 degrees is the resting value\n",
    " myservo.write(100);   // At this position, the servo will move slowly clockwise\n",
    "//  myservo.write(145);   // At this position, the servo will move faster clockwise\n",
    "//  myservo.write(180);   // At this position, the servo will move at max speed clockwise\n",
    "//  myservo.write(80);    // At this position, the servo will move at slowly anti-clockwise\n",
    "//  myservo.write(70);    // At this position, the servo will move at faster anti-clockwise\n",
    "//  myservo.write(0);     // At this position, the servo will move at max speed anti-clockwise\n",
    "} \n",
    "```\n",
    "<div style=\"border:2px solid;margin:0 20px 0 20px\" ></div> \n"
   ]
  },
  {
   "cell_type": "markdown",
   "metadata": {},
   "source": [
    "### Supporting shields\n",
    "\n",
    "> **[Adafruit 16 channel PWM shield](https://www.adafruit.com/product/1411)**"
   ]
  },
  {
   "cell_type": "code",
   "execution_count": null,
   "metadata": {},
   "outputs": [],
   "source": []
  }
 ],
 "metadata": {
  "kernelspec": {
   "display_name": "Python 3",
   "language": "python",
   "name": "python3"
  },
  "language_info": {
   "codemirror_mode": {
    "name": "ipython",
    "version": 3
   },
   "file_extension": ".py",
   "mimetype": "text/x-python",
   "name": "python",
   "nbconvert_exporter": "python",
   "pygments_lexer": "ipython3",
   "version": "3.4.3"
  }
 },
 "nbformat": 4,
 "nbformat_minor": 2
}
